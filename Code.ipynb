{
 "cells": [
  {
   "cell_type": "markdown",
   "metadata": {},
   "source": [
    "<h1>CS152 Assignment 2: The 8-puzzle</h1>\n",
    "\n",
    "Before you turn in this assignment, make sure everything runs as expected. First, **restart the kernel** (in the menubar, select Kernel$\\rightarrow$Restart) and then run the test cells for each of the questions you have answered.  Note that a grade of 3 for the A* implementation requires all tests in the \"Basic Functionality\" section to be passed.  The test cells pass if they execute with no errors (i.e. all the assertions are passed).\n",
    "\n",
    "Make sure you fill in any place that says `YOUR CODE HERE`.  Be sure to remove the `raise NotImplementedError()` statements as you implement your code - these are simply there as a reminder if you forget to add code where it's needed."
   ]
  },
  {
   "cell_type": "markdown",
   "metadata": {},
   "source": [
    "---"
   ]
  },
  {
   "cell_type": "markdown",
   "metadata": {
    "deletable": false,
    "editable": false,
    "nbgrader": {
     "cell_type": "markdown",
     "checksum": "3582513581b2e5d1806ee2b1117ac019",
     "grade": false,
     "grade_id": "5bb4ce",
     "locked": true,
     "schema_version": 3,
     "solution": false
    }
   },
   "source": [
    "<h1>\n",
    "Question 1    \n",
    "</h1>\n",
    "Define your <code>PuzzleNode</code> class below.  Ensure that you include all attributes that you need to implement an A* search.  If you wish, you can even include member functions, such as a function to generate successor states.  Alternatively, you can code up this functionality later in the <code>solvePuzzle</code> function."
   ]
  },
  {
   "cell_type": "code",
   "execution_count": 1,
   "metadata": {
    "deletable": false,
    "nbgrader": {
     "cell_type": "code",
     "checksum": "4326143183f9b58edcedbc64aed31100",
     "grade": false,
     "grade_id": "b5da05",
     "locked": false,
     "schema_version": 3,
     "solution": true,
     "task": false
    }
   },
   "outputs": [],
   "source": [
    "import numpy as np\n",
    "import math\n",
    "from queue import PriorityQueue\n",
    "# YOUR CODE HERE (OPTIONAL)\n",
    "\n",
    "#Now, define the class PuzzleNode:\n",
    "class PuzzleNode:\n",
    "    \"\"\"\n",
    "    Class PuzzleNode: Provides a structure for performing A* search for the n^2-1 puzzle\n",
    "    \"\"\"\n",
    "\n",
    "    def __init__ (self, state,hval,parent = None):\n",
    "        \n",
    "        self.initial_state = state.copy()\n",
    "        #We convert the state of the puzzle into a flat list to make manipulation of its elemtns easier.\n",
    "        self.state = np.array([state]).flatten()\n",
    "        self.parent = parent\n",
    "        self.pruned = False\n",
    "        self.pos_zero = None\n",
    "        self.hval = hval\n",
    "\n",
    "        #gval represents depth level.\n",
    "        if self.parent is None:\n",
    "            #If there is no parent than we are depth 0\n",
    "            self.gval = 0\n",
    "        else:\n",
    "            #Otherwise we will just add 1.\n",
    "            self.gval = self.parent.gval + 1\n",
    "         \n",
    "        #Calculating the value of fval by summing up the values of gval and hval\n",
    "        self.fval = self.gval + self.hval\n",
    "        \n",
    "        if self.pos_zero == None:\n",
    "            \"\"\"\"\n",
    "            Checks where the psoition of 0 is as that will be our empty space and will help us get open moves\n",
    "            \"\"\"\n",
    "            self.pos_zero = list(np.where(self.state==0))[0]\n",
    "        \n",
    "    \n",
    "    def __lt__(self,other):\n",
    "        \"\"\"\"\n",
    "        Method defined for the priority queue.\n",
    "        \"\"\"\n",
    "        return self.fval < other.fval\n",
    "\n",
    "    def __str__(self):\n",
    "        \"\"\"\"\n",
    "        Visualizes the state of the puzzle node.\n",
    "        \"\"\"\n",
    "        return str(self.state)\n",
    "    \n",
    "\n",
    "    def possible_moves(self):\n",
    "        \"\"\"\"\n",
    "        Will allow us to find the blank space and then using that information provides us with a lsit of moves we\n",
    "        can make.\n",
    "        \"\"\"\n",
    "        moves = ['L','R','U','D']\n",
    "        \n",
    "        x = self.pos_zero[0]\n",
    "        n = len(self.initial_state)\n",
    "        \n",
    "        \n",
    "        if x % n == 0:\n",
    "            moves.remove('L')\n",
    "        if x % n == n-1:\n",
    "            moves.remove('R')\n",
    "        if x // n == 0:\n",
    "            moves.remove('U')\n",
    "        if x // n == n-1:\n",
    "            moves.remove('D')\n",
    "\n",
    "        return moves\n",
    "    \n",
    "\n",
    "    def generate_child(self):\n",
    "        \"\"\"\"\n",
    "        This method allows us to make successor states (children) which will be based off of the results we get from the\n",
    "        method possible_moves.\n",
    "        \"\"\"\n",
    "        children=[]\n",
    "        x = self.pos_zero[0]\n",
    "        potential_moves = self.possible_moves()\n",
    "        dimension = int(math.sqrt(len(self.state)))\n",
    "        \n",
    "        for action in potential_moves:\n",
    "            new_state = list(np.array(self.initial_state))\n",
    "            if action == 'U':\n",
    "                new_state[x//dimension][x%dimension], new_state[x//dimension - 1][x%dimension] = new_state[x//dimension-1][x%dimension], new_state[x//dimension][x%dimension]\n",
    "            elif action == 'D':    \n",
    "                new_state[x//dimension][x%dimension], new_state[x//dimension + 1][x%dimension] = new_state[x//dimension+1][x%dimension], new_state[x//dimension][x%dimension]\n",
    "            elif action == 'L':\n",
    "                new_state[x//dimension][x%dimension], new_state[x//dimension][x%dimension-1] = new_state[x//dimension][x%dimension-1], new_state[x//dimension][x%dimension]\n",
    "            elif action == 'R':\n",
    "                new_state[x//dimension][x%dimension], new_state[x//dimension][x%dimension+1] = new_state[x//dimension][x%dimension+1], new_state[x//dimension][x%dimension]\n",
    "            children.append(PuzzleNode(new_state,0,self))\n",
    "        return children    \n",
    "\n",
    "\n",
    "    def inv_count(self):\n",
    "        \"\"\"\"\n",
    "        Counts the number of ivnersions for the puzzle we have.\n",
    "        \"\"\"\n",
    "        count = 0\n",
    "        state_list = list(self.state)\n",
    "        len_st = len(state_list)\n",
    "        for i in range(len_st):\n",
    "            for j in range(i+  1,len_st):\n",
    "                if (state_list[j] and state_list[i] and state_list[i]> state_list[j]):\n",
    "                    count += 1\n",
    "        return count\n",
    "    \n",
    "    \n",
    "    #Help from https://www.geeksforgeeks.org/check-instance-15-puzzle-solvable/\n",
    "    def is_solvable(self):\n",
    "        \"\"\"\"\n",
    "        Method used to check if there is asolution to our puzzle or not.\n",
    "        \"\"\"\n",
    "        inv_count = self.inv_count()\n",
    "        len_ = len(self.initial_state)\n",
    "        pos_row = int(self.pos_zero)/len_\n",
    "\n",
    "        if len_%2==1:\n",
    "            \n",
    "            return inv_count%2==0\n",
    "        \n",
    "        else:\n",
    "            if pos_row%2==0 and inv_count%2==0:\n",
    "                \n",
    "                return True\n",
    "            elif pos_row %2==1 and inv_count%2==1:\n",
    "                return True\n",
    "            else:\n",
    "                return False\n",
    "\n",
    "    \n",
    "    def goal_state(self):\n",
    "        \"\"\"\"\n",
    "        Get the goal state for our puzzle.\n",
    "        \"\"\"\n",
    "        n = len(self.state)\n",
    "        goal = [i for i in range(0,n)]\n",
    "        return goal\n",
    "    \n",
    "    def valid(self):\n",
    "        \"\"\"\"\n",
    "        Checker to see if the puzzle we had initally is even valid or not.\n",
    "        Checks for the range of the values, whether they are uniqye and the dimensions of the original puzzle.\n",
    "        \"\"\"\n",
    "        num = len(self.initial_state)*len(self.initial_state)\n",
    "        if set(self.state) == set([i for i in range(0,num)]) and self.state.shape[0]== num:\n",
    "            return True\n",
    "        return False\n"
   ]
  },
  {
   "cell_type": "markdown",
   "metadata": {
    "deletable": false,
    "editable": false,
    "nbgrader": {
     "cell_type": "markdown",
     "checksum": "f523db3048f85be39ef3dc740b53fdba",
     "grade": false,
     "grade_id": "859d2c",
     "locked": true,
     "schema_version": 3,
     "solution": false
    }
   },
   "source": [
    "<h1>\n",
    "Question 2    \n",
    "</h1>\n",
    "Define your heuristic functions using the templates below.  Ensure that you extend the <code>heuristics</code> list to include all the heuristic functions you implement.  Note that state will be given as a list of lists, so ensure your function accepts this format.  You may use packages like numpy if you wish within the functions themselves."
   ]
  },
  {
   "cell_type": "code",
   "execution_count": 2,
   "metadata": {
    "deletable": false,
    "nbgrader": {
     "cell_type": "code",
     "checksum": "686c6cabd6955171ad70aa6fd37d31a9",
     "grade": false,
     "grade_id": "3fb850",
     "locked": false,
     "schema_version": 3,
     "solution": true,
     "task": false
    }
   },
   "outputs": [],
   "source": [
    "# Add any additional code here (e.g. for the memoization extension)\n",
    "from functools import lru_cache\n",
    "\n",
    "class memoized():\n",
    "    def __init__(self, func):\n",
    "        self.memo = {}\n",
    "        self.func = func\n",
    "    def __call__(self, *args):\n",
    "        if str(args[0]) not in self.memo:\n",
    "            self.memo[str(args[0])] = self.func(args[0])\n",
    "        return self.memo[str(args[0])]\n",
    "    \n",
    "# Misplaced tiles heuristic\n",
    "@memoized\n",
    "def h1(state):\n",
    "\n",
    "    \"\"\"\n",
    "    This function returns the number of misplaced tiles, given the board state\n",
    "    Input:\n",
    "        -state: the board state as a list of lists\n",
    "    Output:\n",
    "        -h: the number of misplaced tiles\n",
    "    \"\"\"\n",
    "    states = np.array(state).flatten()\n",
    "    n = len(state)\n",
    "    h = 0;\n",
    "    \n",
    "    goal = [i for i in range(0, n*n)]\n",
    "    \n",
    "    \n",
    "    for i, j in zip(states, goal):\n",
    "        if i != j and i != 0:\n",
    "            h += 1\n",
    "             \n",
    "    return h\n",
    "\n",
    "# Manhattan distance heuristic\n",
    "@memoized\n",
    "def h2(state):\n",
    "    \"\"\"\n",
    "    This function returns the Manhattan distance from the solved state, given the board state\n",
    "    Input:\n",
    "        -state: the board state as a list of lists\n",
    "    Output:\n",
    "        -h: the Manhattan distance from the solved configuration\n",
    "    \"\"\"\n",
    "    # YOUR CODE HERE\n",
    "    h = 0\n",
    "    states = list(np.array([state]).flatten())\n",
    "    n = len(state)\n",
    "    \n",
    "    for i, val in enumerate(states):\n",
    "        if val != 0:\n",
    "            h +=abs(val//n - i//n) + abs(val%n - i%n)\n",
    "    return h\n",
    "\n",
    "heuristics = [h1,h2]"
   ]
  },
  {
   "cell_type": "markdown",
   "metadata": {
    "deletable": false,
    "editable": false,
    "nbgrader": {
     "cell_type": "markdown",
     "checksum": "591174c27300d0a4d4d96ee841e46810",
     "grade": false,
     "grade_id": "e224d9",
     "locked": true,
     "schema_version": 3,
     "solution": false
    }
   },
   "source": [
    "<h1>\n",
    "Question 3    \n",
    "</h1>\n",
    "Code up your A* search using the SolvePuzzle function within the template below.  Please do not modify the function header, otherwise the automated testing will fail.  You may define other functions or import packages as needed in this cell or by adding additional cells."
   ]
  },
  {
   "cell_type": "code",
   "execution_count": 3,
   "metadata": {
    "deletable": false,
    "nbgrader": {
     "cell_type": "code",
     "checksum": "91dda09c4f5df1db4607bb3b82e81afd",
     "grade": false,
     "grade_id": "328d7b",
     "locked": false,
     "schema_version": 3,
     "solution": true
    }
   },
   "outputs": [],
   "source": [
    "# Import any packages or define any helper functions you need here\n",
    "\n",
    "def solvePuzzle(state, heuristic):\n",
    "    \"\"\"This function should solve the n**2-1 puzzle for any n > 2 (although it may take too long for n > 4)).\n",
    "    Inputs:\n",
    "        -state: The initial state of the puzzle as a list of lists\n",
    "        -heuristic: a handle to a heuristic function.  Will be one of those defined in Question 2.\n",
    "    Outputs:\n",
    "        -steps: The number of steps to optimally solve the puzzle (excluding the initial state)\n",
    "        -exp: The number of nodes expanded to reach the solution\n",
    "        -max_frontier: The maximum size of the frontier over the whole search\n",
    "        -opt_path: The optimal path as a list of list of lists.  That is, opt_path[:,:,i] should give a list of lists\n",
    "                    that represents the state of the board at the ith step of the solution.\n",
    "        -err: An error code.  If state is not of the appropriate size and dimension, return -1.  For the extention task,\n",
    "          if the state is not solvable, then return -2\n",
    "    \"\"\"\n",
    "    # YOUR CODE HERE\n",
    "    \n",
    "    dimension = len(state)\n",
    "    \n",
    "    exp = 0\n",
    "    max_frontier = 0\n",
    "    opt_path = []\n",
    "    cost_database = {}\n",
    "    err = 0\n",
    "    steps = 0\n",
    "    \n",
    "    \n",
    "    initial_node = PuzzleNode(state,heuristic(state))\n",
    "    \n",
    "    \n",
    "    if not initial_node.valid():\n",
    "        #Returns -1 if the state is inconsistent.\n",
    "        err = -1\n",
    "    elif not initial_node.is_solvable():\n",
    "        #Returns -2 if the state is inconsistent.\n",
    "        err = -2\n",
    "    \n",
    "    else:\n",
    "        frontier = PriorityQueue()\n",
    "        frontier.put(initial_node)\n",
    "\n",
    "\n",
    "        while not frontier.empty():\n",
    "            current_node = frontier.get()\n",
    "\n",
    "            if current_node.pruned:\n",
    "                continue\n",
    "\n",
    "            if list(current_node.state) == current_node.goal_state():\n",
    "                break\n",
    "                \n",
    "            exp += 1\n",
    "            \n",
    "            children = current_node.generate_child()\n",
    "\n",
    "            for child in children:\n",
    "                gval = child.gval #tentative cost\n",
    "\n",
    "                if str(child.state) in cost_database:\n",
    "                    if cost_database[str(child.state)].gval>gval:\n",
    "                        cost_database[str(child.state)].pruned = True\n",
    "                    else:\n",
    "                        continue\n",
    "                hval = heuristic(child.initial_state)\n",
    "\n",
    "                next_node = PuzzleNode(child.initial_state,hval,current_node)\n",
    "                frontier.put(next_node)\n",
    "\n",
    "                \n",
    "                cost_database[str(child.state)] = next_node\n",
    "            max_frontier = max(max_frontier, frontier.qsize())\n",
    "            \n",
    "    \n",
    "    \n",
    "        previous_parent = current_node.parent\n",
    "        opt_path = []\n",
    "        \n",
    "        opt_path.append([list(i) for i in np.array_split(current_node.state,dimension)])\n",
    "        while previous_parent:\n",
    "\n",
    "            opt_path.append([list(i) for i in np.array_split(previous_parent.state,dimension)])\n",
    "            previous_parent = previous_parent.parent\n",
    "\n",
    "\n",
    "        steps = len(opt_path)-1\n",
    "        opt_path = opt_path[::-1]\n",
    "    return steps,exp,max_frontier,opt_path,err \n",
    "\n"
   ]
  },
  {
   "cell_type": "markdown",
   "metadata": {
    "deletable": false,
    "editable": false,
    "nbgrader": {
     "cell_type": "markdown",
     "checksum": "93712bce8426499023ace13735ea998d",
     "grade": false,
     "grade_id": "cell-3fc6e687e03655a1",
     "locked": true,
     "schema_version": 3,
     "solution": false,
     "task": false
    }
   },
   "source": [
    "<h1>Extension Questions</h1>\n",
    "\n",
    "The extensions can be implemented by modifying the code from Q2-3 above appropriately.\n",
    "\n",
    "1. <b>Initial state solvability:</b>  Modify your SolvePuzzle function code in Q3 to return -2 if an initial state is not solvable to the goal state.\n",
    "2. <b>Extra heuristic function:</b> Add another heuristic function (e.g. pattern database) that dominates the misplaced tiles and Manhattan distance heuristics to your Q2 code.\n",
    "3. <b>Memoization:</b>  Modify your heuristic function definitions in Q2 by using a Python decorator to speed up heuristic function evaluation\n",
    "\n",
    "There are test cells provided for extension questions 1 and 2."
   ]
  },
  {
   "cell_type": "markdown",
   "metadata": {
    "deletable": false,
    "editable": false,
    "nbgrader": {
     "cell_type": "markdown",
     "checksum": "c89ea5c4d80cc73d321b4d15a043e8b7",
     "grade": false,
     "grade_id": "fb9ccd",
     "locked": true,
     "schema_version": 3,
     "solution": false
    }
   },
   "source": [
    "<h1>Basic Functionality Tests</h1>\n",
    "The cells below contain tests to verify that your code is working properly to be classified as basically functional.  Please note that a grade of <b>3</b> on #aicoding and #search as applicable for each test requires the test to be successfully passed.  <b>If you want to demonstrate some other aspect of your code, then feel free to add additional cells with test code and document what they do.<b>"
   ]
  },
  {
   "cell_type": "code",
   "execution_count": 4,
   "metadata": {
    "deletable": false,
    "editable": false,
    "nbgrader": {
     "cell_type": "code",
     "checksum": "f8d927b41dc95f7b76d81ed7f6cd13ec",
     "grade": true,
     "grade_id": "8fbc24",
     "locked": true,
     "points": 1,
     "schema_version": 3,
     "solution": false
    }
   },
   "outputs": [],
   "source": [
    "## Test for state not correctly defined\n",
    "\n",
    "incorrect_state = [[0,1,2],[2,3,4],[5,6,7]]\n",
    "_,_,_,_,err = solvePuzzle(incorrect_state, lambda state: 0)\n",
    "assert(err == -1)"
   ]
  },
  {
   "cell_type": "code",
   "execution_count": 5,
   "metadata": {
    "deletable": false,
    "editable": false,
    "nbgrader": {
     "cell_type": "code",
     "checksum": "005a7a99916dafeb7180172c66365597",
     "grade": true,
     "grade_id": "cell-5738a2124877e52e",
     "locked": true,
     "points": 2,
     "schema_version": 3,
     "solution": false,
     "task": false
    }
   },
   "outputs": [],
   "source": [
    "## Heuristic function tests for misplaced tiles and manhattan distance\n",
    "\n",
    "# Define the working initial states\n",
    "working_initial_states_8_puzzle = ([[2,3,7],[1,8,0],[6,5,4]], [[7,0,8],[4,6,1],[5,3,2]], [[5,7,6],[2,4,3],[8,1,0]])\n",
    "\n",
    "# Test the values returned by the heuristic functions\n",
    "h_mt_vals = [7,8,7]\n",
    "h_man_vals = [15,17,18]\n",
    "\n",
    "for i in range(0,3):\n",
    "    h_mt = heuristics[0](working_initial_states_8_puzzle[i])\n",
    "    h_man = heuristics[1](working_initial_states_8_puzzle[i])\n",
    "    assert(h_mt == h_mt_vals[i])\n",
    "    assert(h_man == h_man_vals[i])\n"
   ]
  },
  {
   "cell_type": "code",
   "execution_count": 6,
   "metadata": {
    "deletable": false,
    "editable": false,
    "nbgrader": {
     "cell_type": "code",
     "checksum": "293094319e63d67c5f6d94cd7aee0c02",
     "grade": true,
     "grade_id": "cell-99c07d9541559b52",
     "locked": true,
     "points": 4,
     "schema_version": 3,
     "solution": false,
     "task": false
    }
   },
   "outputs": [],
   "source": [
    "## A* Tests for 3 x 3 boards\n",
    "## This test runs A* with both heuristics and ensures that the same optimal number of steps are found\n",
    "## with each heuristic.\n",
    "\n",
    "# Optimal path to the solution for the first 3 x 3 state\n",
    "opt_path_soln = [[[2, 3, 7], [1, 8, 0], [6, 5, 4]], [[2, 3, 7], [1, 8, 4], [6, 5, 0]], \n",
    "                 [[2, 3, 7], [1, 8, 4], [6, 0, 5]], [[2, 3, 7], [1, 0, 4], [6, 8, 5]], \n",
    "                 [[2, 0, 7], [1, 3, 4], [6, 8, 5]], [[0, 2, 7], [1, 3, 4], [6, 8, 5]], \n",
    "                 [[1, 2, 7], [0, 3, 4], [6, 8, 5]], [[1, 2, 7], [3, 0, 4], [6, 8, 5]], \n",
    "                 [[1, 2, 7], [3, 4, 0], [6, 8, 5]], [[1, 2, 0], [3, 4, 7], [6, 8, 5]], \n",
    "                 [[1, 0, 2], [3, 4, 7], [6, 8, 5]], [[1, 4, 2], [3, 0, 7], [6, 8, 5]], \n",
    "                 [[1, 4, 2], [3, 7, 0], [6, 8, 5]], [[1, 4, 2], [3, 7, 5], [6, 8, 0]], \n",
    "                 [[1, 4, 2], [3, 7, 5], [6, 0, 8]], [[1, 4, 2], [3, 0, 5], [6, 7, 8]], \n",
    "                 [[1, 0, 2], [3, 4, 5], [6, 7, 8]], [[0, 1, 2], [3, 4, 5], [6, 7, 8]]]\n",
    "\n",
    "astar_steps = [17, 25, 28]\n",
    "for i in range(0,3):\n",
    "    steps_mt, expansions_mt, _, opt_path_mt, _ = solvePuzzle(working_initial_states_8_puzzle[i], heuristics[0])\n",
    "    steps_man, expansions_man, _, opt_path_man, _ = solvePuzzle(working_initial_states_8_puzzle[i], heuristics[1])\n",
    "    # Test whether the number of optimal steps is correct and the same\n",
    "    assert(steps_mt == steps_man == astar_steps[i])\n",
    "    # Test whether or not the manhattan distance dominates the misplaced tiles heuristic in every case\n",
    "    assert(expansions_man < expansions_mt)\n",
    "    # For the first state, test that the optimal path is the same\n",
    "    if i == 0:\n",
    "        assert(opt_path_mt == opt_path_soln)\n"
   ]
  },
  {
   "cell_type": "code",
   "execution_count": 7,
   "metadata": {
    "deletable": false,
    "editable": false,
    "nbgrader": {
     "cell_type": "code",
     "checksum": "94ad7f950f87fcc281af1f3946c4e196",
     "grade": true,
     "grade_id": "cell-2981ba2cc7745c22",
     "locked": true,
     "points": 8,
     "schema_version": 3,
     "solution": false,
     "task": false
    }
   },
   "outputs": [],
   "source": [
    "## A* Test for 4 x 4 board\n",
    "## This test runs A* with both heuristics and ensures that the same optimal number of steps are found\n",
    "## with each heuristic.\n",
    "\n",
    "working_initial_state_15_puzzle = [[1,2,6,3],[0,9,5,7],[4,13,10,11],[8,12,14,15]]\n",
    "steps_mt, expansions_mt, _, _, _ = solvePuzzle(working_initial_state_15_puzzle, heuristics[0])\n",
    "steps_man, expansions_man, _, _, _ = solvePuzzle(working_initial_state_15_puzzle, heuristics[1])\n",
    "# Test whether the number of optimal steps is correct and the same\n",
    "assert(steps_mt == steps_man == 9)\n",
    "# Test whether or not the manhattan distance dominates the misplaced tiles heuristic in every case\n",
    "assert(expansions_mt >= expansions_man)"
   ]
  },
  {
   "cell_type": "markdown",
   "metadata": {
    "deletable": false,
    "editable": false,
    "nbgrader": {
     "cell_type": "markdown",
     "checksum": "7251e4aad7b1e19b42a78e54d8e7b920",
     "grade": false,
     "grade_id": "cell-2c262efb90518641",
     "locked": true,
     "schema_version": 3,
     "solution": false,
     "task": false
    }
   },
   "source": [
    "<h1>Extension Tests</h1>\n",
    "The cells below can be used to test the extension questions.  Memoization if implemented will be tested on the final submission - you can test it yourself by testing the execution time of the heuristic functions with and without it."
   ]
  },
  {
   "cell_type": "code",
   "execution_count": 8,
   "metadata": {
    "deletable": false,
    "editable": false,
    "nbgrader": {
     "cell_type": "code",
     "checksum": "efc4b74c95e814a4fb07d2c5ed26f337",
     "grade": true,
     "grade_id": "cell-21cada9978e9a1bb",
     "locked": true,
     "points": 16,
     "schema_version": 3,
     "solution": false,
     "task": false
    }
   },
   "outputs": [],
   "source": [
    "## Puzzle solvability test\n",
    "\n",
    "unsolvable_initial_state = [[7,5,6],[2,4,3],[8,1,0]]\n",
    "_,_,_,_,err = solvePuzzle(unsolvable_initial_state, lambda state: 0)\n",
    "assert(err == -2)"
   ]
  },
  {
   "cell_type": "code",
   "execution_count": 9,
   "metadata": {
    "deletable": false,
    "editable": false,
    "nbgrader": {
     "cell_type": "code",
     "checksum": "9b7ebb02bcf675ab3a5157eaa1155763",
     "grade": true,
     "grade_id": "cell-8c7a414efc152379",
     "locked": true,
     "points": 32,
     "schema_version": 3,
     "solution": false,
     "task": false
    }
   },
   "outputs": [
    {
     "ename": "IndexError",
     "evalue": "list index out of range",
     "output_type": "error",
     "traceback": [
      "\u001b[1;31m---------------------------------------------------------------------------\u001b[0m",
      "\u001b[1;31mIndexError\u001b[0m                                Traceback (most recent call last)",
      "Input \u001b[1;32mIn [9]\u001b[0m, in \u001b[0;36m<cell line: 5>\u001b[1;34m()\u001b[0m\n\u001b[0;32m      4\u001b[0m dom \u001b[38;5;241m=\u001b[39m \u001b[38;5;241m0\u001b[39m\n\u001b[0;32m      5\u001b[0m \u001b[38;5;28;01mfor\u001b[39;00m i \u001b[38;5;129;01min\u001b[39;00m \u001b[38;5;28mrange\u001b[39m(\u001b[38;5;241m0\u001b[39m,\u001b[38;5;241m3\u001b[39m):\n\u001b[1;32m----> 6\u001b[0m     steps_new, expansions_new, _, _, _ \u001b[38;5;241m=\u001b[39m solvePuzzle(working_initial_states_8_puzzle[i], \u001b[43mheuristics\u001b[49m\u001b[43m[\u001b[49m\u001b[38;5;241;43m2\u001b[39;49m\u001b[43m]\u001b[49m)\n\u001b[0;32m      7\u001b[0m     steps_man, expansions_man, _, _, _ \u001b[38;5;241m=\u001b[39m solvePuzzle(working_initial_states_8_puzzle[i], heuristics[\u001b[38;5;241m1\u001b[39m])\n\u001b[0;32m      8\u001b[0m     \u001b[38;5;66;03m# Test whether the number of optimal steps is correct and the same\u001b[39;00m\n",
      "\u001b[1;31mIndexError\u001b[0m: list index out of range"
     ]
    }
   ],
   "source": [
    "## Extra heuristic function test.  \n",
    "## This tests that for all initial conditions, the new heuristic dominates over the manhattan distance.\n",
    "\n",
    "dom = 0\n",
    "for i in range(0,3):\n",
    "    steps_new, expansions_new, _, _, _ = solvePuzzle(working_initial_states_8_puzzle[i], heuristics[2])\n",
    "    steps_man, expansions_man, _, _, _ = solvePuzzle(working_initial_states_8_puzzle[i], heuristics[1])\n",
    "    # Test whether the number of optimal steps is correct and the same\n",
    "    assert(steps_new == steps_man == astar_steps[i])\n",
    "    # Test whether or not the manhattan distance is dominated by the new heuristic in every case, by checking\n",
    "    # the number of nodes expanded\n",
    "    dom = expansions_man - expansions_new\n",
    "    assert(dom > 0)"
   ]
  },
  {
   "cell_type": "code",
   "execution_count": null,
   "metadata": {
    "deletable": false,
    "editable": false,
    "nbgrader": {
     "cell_type": "code",
     "checksum": "af551e00bc8334100b7cf901ece597a2",
     "grade": true,
     "grade_id": "cell-09f710b6aa2e3fa3",
     "locked": true,
     "points": 64,
     "schema_version": 3,
     "solution": false,
     "task": false
    }
   },
   "outputs": [],
   "source": [
    "## Memoization test - will be carried out after submission"
   ]
  }
 ],
 "metadata": {
  "kernelspec": {
   "display_name": "Python 3 (ipykernel)",
   "language": "python",
   "name": "python3"
  },
  "language_info": {
   "codemirror_mode": {
    "name": "ipython",
    "version": 3
   },
   "file_extension": ".py",
   "mimetype": "text/x-python",
   "name": "python",
   "nbconvert_exporter": "python",
   "pygments_lexer": "ipython3",
   "version": "3.8.13"
  }
 },
 "nbformat": 4,
 "nbformat_minor": 1
}
